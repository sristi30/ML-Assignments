{
 "cells": [
  {
   "cell_type": "code",
   "execution_count": 1,
   "metadata": {},
   "outputs": [
    {
     "name": "stdout",
     "output_type": "stream",
     "text": [
      "Accuracy=  46.89320388349515 %\n"
     ]
    }
   ],
   "source": [
    "from __future__ import division, print_function, unicode_literals\n",
    "import numpy as np\n",
    "from scipy.spatial import distance\n",
    "\n",
    "#loading data\n",
    "X_seen=np.load('X_seen.npy',encoding=\"latin1\")\n",
    "Xtest=np.load('Xtest.npy',encoding=\"latin1\")\n",
    "Ytest=np.load('Ytest.npy',encoding=\"latin1\")\n",
    "class_attributes_seen=np.load('class_attributes_seen.npy',encoding=\"latin1\")\n",
    "class_attributes_unseen=np.load('class_attributes_unseen.npy',encoding=\"latin1\")\n",
    "\n",
    "#computing mean of seen classes\n",
    "classMeanList=[]; #(40 ,4096) dimension list containing mean of 40 classes\n",
    "for i in range(40):\n",
    "    classMean=(np.mean(X_seen[i],axis=0)).tolist() #calculating mean of class i\n",
    "    classMeanList.append(classMean)\n",
    "class_mean_list=np.array(classMeanList)\n",
    "\n",
    "class_attributes_seen_transpose=np.transpose(class_attributes_seen)\n",
    "\n",
    "#similarity matrix is (10,40) matrix of similarity  between seen and unseen classes\n",
    "similarity_matrix=np.dot(class_attributes_unseen,class_attributes_seen_transpose)\n",
    "\n",
    "#normalizing similarities\n",
    "for i in range(len(similarity_matrix)):\n",
    "    sum_class_unseen_similarity=np.sum(similarity_matrix[i]) # sum of all similarity of an unseen class with all seen classes\n",
    "    for j in range(len(similarity_matrix[0])):\n",
    "        similarity_matrix[i][j]/=sum_class_unseen_similarity\n",
    "        \n",
    "class_unseen_mean_list=np.dot(similarity_matrix,class_mean_list) #(10,4096) matrix containing means of 10 unseen classes\n",
    "\n",
    "Y_predicted_list=np.empty(6180) #list for predicted outputs\n",
    "\n",
    "#predicting outputs by comparing distance from mean\n",
    "for i in range(len(Xtest)):\n",
    "    for j in range(len(class_unseen_mean_list)):\n",
    "        if j==0:\n",
    "            dst=distance.euclidean(Xtest[i],class_unseen_mean_list[j])\n",
    "            class_index=j+1\n",
    "        else:\n",
    "            if dst>distance.euclidean(Xtest[i],class_unseen_mean_list[j]):\n",
    "                dst=distance.euclidean(Xtest[i],class_unseen_mean_list[j])\n",
    "                class_index=j+1\n",
    "    Y_predicted_list[i]=class_index\n",
    "Ytest=np.reshape(Ytest,6180) #reshaping to make Ytest of the same shape as Y_predicted_list\n",
    "\n",
    "#computing accuracy\n",
    "no_correct_prediction=np.sum(Ytest==Y_predicted_list)\n",
    "print(\"Accuracy= \",((no_correct_prediction/6180)*100),\"%\")\n",
    "\n",
    "    \n",
    "    \n",
    "\n",
    "        \n",
    "\n",
    "\n"
   ]
  },
  {
   "cell_type": "code",
   "execution_count": null,
   "metadata": {},
   "outputs": [],
   "source": [
    "\n"
   ]
  },
  {
   "cell_type": "code",
   "execution_count": null,
   "metadata": {},
   "outputs": [],
   "source": []
  }
 ],
 "metadata": {
  "kernelspec": {
   "display_name": "Python 3",
   "language": "python",
   "name": "python3"
  },
  "language_info": {
   "codemirror_mode": {
    "name": "ipython",
    "version": 3
   },
   "file_extension": ".py",
   "mimetype": "text/x-python",
   "name": "python",
   "nbconvert_exporter": "python",
   "pygments_lexer": "ipython3",
   "version": "3.6.5"
  }
 },
 "nbformat": 4,
 "nbformat_minor": 2
}
