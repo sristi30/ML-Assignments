{
 "cells": [
  {
   "cell_type": "code",
   "execution_count": 11,
   "metadata": {},
   "outputs": [
    {
     "name": "stdout",
     "output_type": "stream",
     "text": [
      "lambda=  0.01 \t Accuracy=  58.090614886731395 %\n",
      "lambda=  0.1 \t Accuracy=  59.54692556634305 %\n",
      "lambda=  1 \t Accuracy=  67.39482200647248 %\n",
      "lambda=  10 \t Accuracy=  73.28478964401295 %\n",
      "lambda=  20 \t Accuracy=  71.68284789644012 %\n",
      "lambda=  50 \t Accuracy=  65.08090614886731 %\n",
      "lambda=  100 \t Accuracy=  56.47249190938511 %\n"
     ]
    }
   ],
   "source": [
    "from __future__ import division, print_function, unicode_literals\n",
    "import numpy as np\n",
    "from scipy.spatial import distance\n",
    "\n",
    "#loading data\n",
    "X_seen=np.load('X_seen.npy',encoding=\"latin1\")\n",
    "Xtest=np.load('Xtest.npy',encoding=\"latin1\")\n",
    "Ytest=np.load('Ytest.npy',encoding=\"latin1\")\n",
    "class_attributes_seen=np.load('class_attributes_seen.npy',encoding=\"latin1\")\n",
    "class_attributes_unseen=np.load('class_attributes_unseen.npy',encoding=\"latin1\")\n",
    "\n",
    "#computing mean of seen class\n",
    "classMeanList=[]; #(40 ,4096) dimension list containing mean of 40 classes\n",
    "for i in range(40):\n",
    "    classMean=(np.mean(X_seen[i],axis=0)).tolist() #calculating mean of class i\n",
    "    classMeanList.append(classMean)\n",
    "class_mean_list=np.array(classMeanList)\n",
    "\n",
    "\n",
    "class_attributes_seen_transpose=np.transpose(class_attributes_seen)\n",
    "l=[0.01,0.1,1,10,20,50,100]\n",
    "\n",
    "#learning linear model for each lambda\n",
    "for k in l:\n",
    "    #calculation weight matrix W (85*4096)\n",
    "    W=np.matmul(np.matmul((np.linalg.inv(np.add((np.matmul(class_attributes_seen_transpose,class_attributes_seen)),k*np.identity(85)))),class_attributes_seen_transpose),class_mean_list)\n",
    "    \n",
    "    class_unseen_mean_list=np.matmul(class_attributes_unseen,W)#(10,4096) matrix for means of 10 unseen classes\n",
    "    \n",
    "    Y_predicted_list=np.empty(6180) #list for predicted outputs\n",
    "    \n",
    "    #predicting outputs by comparing distance from mean\n",
    "    for i in range(len(Xtest)):\n",
    "        for j in range(len(class_unseen_mean_list)):\n",
    "            if j==0:\n",
    "                dst=distance.euclidean(Xtest[i],class_unseen_mean_list[j])\n",
    "                class_index=j+1\n",
    "            else:\n",
    "                if dst>distance.euclidean(Xtest[i],class_unseen_mean_list[j]):\n",
    "                    dst=distance.euclidean(Xtest[i],class_unseen_mean_list[j])\n",
    "                    class_index=j+1\n",
    "        Y_predicted_list[i]=class_index\n",
    "    \n",
    "    #computing classification accuracies\n",
    "    Ytest=np.reshape(Ytest,6180) #reshaping to make Ytest of the same shape as Y_predicted_list\n",
    "    no_correct_prediction=np.sum(Ytest==Y_predicted_list)\n",
    "    print(\"lambda= \",k,\"\\t Accuracy= \",((no_correct_prediction/6180)*100),\"%\")\n",
    "\n",
    "\n"
   ]
  },
  {
   "cell_type": "code",
   "execution_count": null,
   "metadata": {},
   "outputs": [],
   "source": []
  }
 ],
 "metadata": {
  "kernelspec": {
   "display_name": "Python 3",
   "language": "python",
   "name": "python3"
  },
  "language_info": {
   "codemirror_mode": {
    "name": "ipython",
    "version": 3
   },
   "file_extension": ".py",
   "mimetype": "text/x-python",
   "name": "python",
   "nbconvert_exporter": "python",
   "pygments_lexer": "ipython3",
   "version": "3.6.5"
  }
 },
 "nbformat": 4,
 "nbformat_minor": 2
}
